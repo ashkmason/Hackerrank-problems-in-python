{
 "cells": [
  {
   "cell_type": "code",
   "execution_count": 54,
   "metadata": {},
   "outputs": [],
   "source": [
    "n = 2\n",
    "p = 2"
   ]
  },
  {
   "cell_type": "code",
   "execution_count": 56,
   "metadata": {},
   "outputs": [
    {
     "name": "stdout",
     "output_type": "stream",
     "text": [
      "0\n"
     ]
    }
   ],
   "source": [
    "def pageCount(n, p):\n",
    "    # what is halfway through the book\n",
    "    h = n / 2\n",
    "    pages = 0\n",
    "    i = 1\n",
    "    if i == p:\n",
    "        return pages\n",
    "    # if p is less than or equal to halfway\n",
    "    elif p <= h:\n",
    "        i = 1\n",
    "        # increment i as long as it is less than p and only increment pages is it is an odd page\n",
    "        while i < p:\n",
    "            if i % 2 == 0:\n",
    "                i += 1\n",
    "            else:\n",
    "                pages = pages + 1\n",
    "                i += 1\n",
    "        return pages\n",
    "    else:\n",
    "        # then i = last page in boook\n",
    "        i = n\n",
    "            # while i is less than p increment i and increment pages when it is an even page\n",
    "        while i > p:\n",
    "            if i % 2 == 0:\n",
    "                pages = pages + 1\n",
    "                i = i - 1\n",
    "            else:\n",
    "                i = i -1\n",
    "        return pages\n",
    "\n",
    "print(pageCount(n, p))"
   ]
  },
  {
   "cell_type": "code",
   "execution_count": null,
   "metadata": {},
   "outputs": [],
   "source": []
  }
 ],
 "metadata": {
  "kernelspec": {
   "display_name": "Python 3",
   "language": "python",
   "name": "python3"
  },
  "language_info": {
   "codemirror_mode": {
    "name": "ipython",
    "version": 3
   },
   "file_extension": ".py",
   "mimetype": "text/x-python",
   "name": "python",
   "nbconvert_exporter": "python",
   "pygments_lexer": "ipython3",
   "version": "3.7.7"
  }
 },
 "nbformat": 4,
 "nbformat_minor": 4
}

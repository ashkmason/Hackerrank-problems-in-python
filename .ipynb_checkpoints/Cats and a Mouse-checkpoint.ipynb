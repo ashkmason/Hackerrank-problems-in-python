{
 "cells": [
  {
   "cell_type": "code",
   "execution_count": 1,
   "metadata": {},
   "outputs": [],
   "source": [
    "x = 2 # Cat A position\n",
    "y = 5 # Cat B position\n",
    "z = 4 # Mouse C position"
   ]
  },
  {
   "cell_type": "code",
   "execution_count": 5,
   "metadata": {},
   "outputs": [
    {
     "data": {
      "text/plain": [
       "'Cat B'"
      ]
     },
     "execution_count": 5,
     "metadata": {},
     "output_type": "execute_result"
    }
   ],
   "source": [
    "# Which cat will reach mouse first or will the mouse get away\n",
    "def catAndMouse(x, y, z):\n",
    "    a = abs(z-x)\n",
    "    b = abs(z-y)\n",
    "    if a < b:\n",
    "        return('Cat A')\n",
    "    elif b < a:\n",
    "        return('Cat B')\n",
    "    else:\n",
    "        return('Mouse C')\n",
    "\n",
    "catAndMouse(x, y, z)"
   ]
  },
  {
   "cell_type": "code",
   "execution_count": null,
   "metadata": {},
   "outputs": [],
   "source": []
  }
 ],
 "metadata": {
  "kernelspec": {
   "display_name": "Python 3",
   "language": "python",
   "name": "python3"
  },
  "language_info": {
   "codemirror_mode": {
    "name": "ipython",
    "version": 3
   },
   "file_extension": ".py",
   "mimetype": "text/x-python",
   "name": "python",
   "nbconvert_exporter": "python",
   "pygments_lexer": "ipython3",
   "version": "3.7.7"
  }
 },
 "nbformat": 4,
 "nbformat_minor": 4
}

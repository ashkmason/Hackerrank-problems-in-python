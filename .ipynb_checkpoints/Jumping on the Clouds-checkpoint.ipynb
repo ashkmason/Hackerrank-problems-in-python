{
 "cells": [
  {
   "cell_type": "code",
   "execution_count": 8,
   "metadata": {},
   "outputs": [
    {
     "name": "stdout",
     "output_type": "stream",
     "text": [
      "7\n",
      "0 0 1 0 0 1 0\n",
      "4\n"
     ]
    }
   ],
   "source": [
    "n = int(input())\n",
    "c = list(map(int, input().rstrip().split()))\n",
    "\n",
    "def jumpingOnClouds(c):\n",
    "    j = 0\n",
    "    i = 0\n",
    "    while i < n-1:\n",
    "        if i + 2 >= len(c) or c[i+2] == 1:\n",
    "            i += 1\n",
    "            j += 1\n",
    "        else:\n",
    "            i += 2\n",
    "            j = j + 1\n",
    "    return j\n",
    "\n",
    "print(jumpingOnClouds(c))"
   ]
  },
  {
   "cell_type": "code",
   "execution_count": null,
   "metadata": {},
   "outputs": [],
   "source": []
  }
 ],
 "metadata": {
  "kernelspec": {
   "display_name": "Python 3",
   "language": "python",
   "name": "python3"
  },
  "language_info": {
   "codemirror_mode": {
    "name": "ipython",
    "version": 3
   },
   "file_extension": ".py",
   "mimetype": "text/x-python",
   "name": "python",
   "nbconvert_exporter": "python",
   "pygments_lexer": "ipython3",
   "version": "3.7.7"
  }
 },
 "nbformat": 4,
 "nbformat_minor": 4
}

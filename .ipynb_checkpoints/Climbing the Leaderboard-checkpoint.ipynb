{
 "cells": [
  {
   "cell_type": "code",
   "execution_count": 2,
   "metadata": {},
   "outputs": [
    {
     "name": "stdout",
     "output_type": "stream",
     "text": [
      "7\n",
      "100 100 50 40 40 20 10\n",
      "4\n",
      "5 25 50 120\n",
      "[6, 4, 2, 1]\n"
     ]
    }
   ],
   "source": [
    "scores_count = int(input())\n",
    "\n",
    "scores = list(map(int, input().rstrip().split()))\n",
    "\n",
    "alice_count = int(input())\n",
    "\n",
    "alice = list(map(int, input().rstrip().split()))\n",
    "\n",
    "def climbingLeaderboard(scores, alice):\n",
    "    # remove all duplicated scores and keep order in desc\n",
    "    scores = sorted(list(set(scores)), reverse = True)\n",
    "    # sort alice scores in desc\n",
    "    alice.sort(reverse = True)\n",
    "    index = 0\n",
    "    rank_list = []\n",
    "\n",
    "    for i in range(len(alice)):\n",
    "        while index < len(scores) and alice[i] < scores[index]:\n",
    "            index += 1\n",
    "        rank_list.append(index+1)\n",
    "    return rank_list[::-1]\n",
    "\n",
    "print(climbingLeaderboard(scores, alice))"
   ]
  },
  {
   "cell_type": "markdown",
   "metadata": {},
   "source": []
  }
 ],
 "metadata": {
  "kernelspec": {
   "display_name": "Python 3",
   "language": "python",
   "name": "python3"
  },
  "language_info": {
   "codemirror_mode": {
    "name": "ipython",
    "version": 3
   },
   "file_extension": ".py",
   "mimetype": "text/x-python",
   "name": "python",
   "nbconvert_exporter": "python",
   "pygments_lexer": "ipython3",
   "version": "3.7.7"
  }
 },
 "nbformat": 4,
 "nbformat_minor": 4
}

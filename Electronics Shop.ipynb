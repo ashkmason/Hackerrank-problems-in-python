{
 "cells": [
  {
   "cell_type": "code",
   "execution_count": 32,
   "metadata": {},
   "outputs": [],
   "source": [
    "b = 60 # budget\n",
    "keyboards = [40, 50, 60] # keyboard prices\n",
    "drives = [5, 8, 12] # usb prices"
   ]
  },
  {
   "cell_type": "code",
   "execution_count": 33,
   "metadata": {},
   "outputs": [
    {
     "data": {
      "text/plain": [
       "-1"
      ]
     },
     "execution_count": 33,
     "metadata": {},
     "output_type": "execute_result"
    }
   ],
   "source": [
    "# spend as much as the budget as possible return -1 if can only get 1 item\n",
    "def getMoneySpent(keyboards, drives, b):\n",
    "    set = -1\n",
    "    for i in keyboards:\n",
    "        for j in drives:\n",
    "            k = i + j\n",
    "            if set < k & k <= b:\n",
    "                set = k\n",
    "    return set\n",
    " \n",
    "getMoneySpent(keyboard, usb, b)"
   ]
  },
  {
   "cell_type": "code",
   "execution_count": null,
   "metadata": {},
   "outputs": [],
   "source": []
  }
 ],
 "metadata": {
  "kernelspec": {
   "display_name": "Python 3",
   "language": "python",
   "name": "python3"
  },
  "language_info": {
   "codemirror_mode": {
    "name": "ipython",
    "version": 3
   },
   "file_extension": ".py",
   "mimetype": "text/x-python",
   "name": "python",
   "nbconvert_exporter": "python",
   "pygments_lexer": "ipython3",
   "version": "3.7.7"
  }
 },
 "nbformat": 4,
 "nbformat_minor": 4
}

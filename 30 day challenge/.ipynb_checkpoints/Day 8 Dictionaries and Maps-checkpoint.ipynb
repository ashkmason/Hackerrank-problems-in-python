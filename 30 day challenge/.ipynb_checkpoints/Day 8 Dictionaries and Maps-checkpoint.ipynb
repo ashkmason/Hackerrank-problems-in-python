{
 "cells": [
  {
   "cell_type": "code",
   "execution_count": 2,
   "metadata": {},
   "outputs": [
    {
     "name": "stdout",
     "output_type": "stream",
     "text": [
      "3\n",
      "sam 99912222\n",
      "tom 111222222\n",
      "harry 12299933\n",
      "{'sam': '99912222', 'tom': '111222222', 'harry': '12299933'}\n",
      "sam\n",
      "sam=99912222\n",
      "edward\n",
      "Not found\n",
      "harry\n",
      "harry=12299933\n"
     ]
    }
   ],
   "source": [
    "n = int(input())\n",
    "phoneBook = dict()\n",
    "\n",
    "# insert data in dictionary\n",
    "# n is the number of records needed to insert in dictionary\n",
    "for i in range(0, n):\n",
    "    name, number = input().split()\n",
    "    phoneBook[name] = number\n",
    "\n",
    "print(phoneBook)\n",
    "\n",
    "# search dictionary\n",
    "for i in range(0, n):\n",
    "    try: \n",
    "        name = input()\n",
    "        if name in phoneBook:\n",
    "            print(f\"{name}={phoneBook[name]}\")\n",
    "        else:\n",
    "            print(\"Not found\")\n",
    "    except:\n",
    "        break"
   ]
  },
  {
   "cell_type": "code",
   "execution_count": null,
   "metadata": {},
   "outputs": [],
   "source": []
  }
 ],
 "metadata": {
  "kernelspec": {
   "display_name": "Python 3",
   "language": "python",
   "name": "python3"
  },
  "language_info": {
   "codemirror_mode": {
    "name": "ipython",
    "version": 3
   },
   "file_extension": ".py",
   "mimetype": "text/x-python",
   "name": "python",
   "nbconvert_exporter": "python",
   "pygments_lexer": "ipython3",
   "version": "3.7.7"
  }
 },
 "nbformat": 4,
 "nbformat_minor": 4
}

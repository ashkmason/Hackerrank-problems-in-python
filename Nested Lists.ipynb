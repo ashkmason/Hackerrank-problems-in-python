{
 "cells": [
  {
   "cell_type": "code",
   "execution_count": 21,
   "metadata": {},
   "outputs": [
    {
     "name": "stdout",
     "output_type": "stream",
     "text": [
      "5\n",
      "harry\n",
      "37.21\n",
      "berry\n",
      "37.21\n",
      "tina\n",
      "37.2\n",
      "akriti\n",
      "41\n",
      "harsh\n",
      "39\n"
     ]
    }
   ],
   "source": [
    "# format the data\n",
    "if __name__ == '__main__':\n",
    "    a= []\n",
    "    for _ in range(int(input())):\n",
    "        name = input()\n",
    "        score = float(input())\n",
    "        a.append([score, name])"
   ]
  },
  {
   "cell_type": "code",
   "execution_count": 23,
   "metadata": {},
   "outputs": [
    {
     "name": "stdout",
     "output_type": "stream",
     "text": [
      "[[37.21, 'harry'], [37.21, 'berry'], [37.2, 'tina'], [41.0, 'akriti'], [39.0, 'harsh']]\n"
     ]
    }
   ],
   "source": [
    "print(a)"
   ]
  },
  {
   "cell_type": "code",
   "execution_count": 24,
   "metadata": {},
   "outputs": [
    {
     "name": "stdout",
     "output_type": "stream",
     "text": [
      "[[37.2, 'tina'], [37.21, 'berry'], [37.21, 'harry'], [39.0, 'harsh'], [41.0, 'akriti']]\n"
     ]
    }
   ],
   "source": [
    "# sort the scores so the lowest is first\n",
    "a.sort()\n",
    "print(a)"
   ]
  },
  {
   "cell_type": "code",
   "execution_count": 26,
   "metadata": {},
   "outputs": [
    {
     "name": "stdout",
     "output_type": "stream",
     "text": [
      "[[37.21, 'berry'], [37.21, 'harry'], [39.0, 'harsh'], [41.0, 'akriti']]\n"
     ]
    }
   ],
   "source": [
    "# remove all the lowest scores\n",
    "b = [i for i in a if i[0] != a[0][0]]\n",
    "\n",
    "print(b)"
   ]
  },
  {
   "cell_type": "code",
   "execution_count": 27,
   "metadata": {},
   "outputs": [
    {
     "name": "stdout",
     "output_type": "stream",
     "text": [
      "[[37.21, 'berry'], [37.21, 'harry']]\n"
     ]
    }
   ],
   "source": [
    "# remove all that are not the second to lowest score\n",
    "c = [j for j in b if j[0] == b[0][0]]\n",
    "\n",
    "print(c)"
   ]
  },
  {
   "cell_type": "code",
   "execution_count": 28,
   "metadata": {},
   "outputs": [
    {
     "name": "stdout",
     "output_type": "stream",
     "text": [
      "berry\n",
      "harry\n"
     ]
    }
   ],
   "source": [
    "# sort c alphabetically and print the names\n",
    "c.sort(key=lambda x: x[1])\n",
    "for i in range(len(c)):\n",
    "    print(c[i][1])"
   ]
  },
  {
   "cell_type": "code",
   "execution_count": null,
   "metadata": {},
   "outputs": [],
   "source": []
  }
 ],
 "metadata": {
  "kernelspec": {
   "display_name": "Python 3",
   "language": "python",
   "name": "python3"
  },
  "language_info": {
   "codemirror_mode": {
    "name": "ipython",
    "version": 3
   },
   "file_extension": ".py",
   "mimetype": "text/x-python",
   "name": "python",
   "nbconvert_exporter": "python",
   "pygments_lexer": "ipython3",
   "version": "3.7.7"
  }
 },
 "nbformat": 4,
 "nbformat_minor": 4
}
